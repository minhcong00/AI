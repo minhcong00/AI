{
  "nbformat": 4,
  "nbformat_minor": 0,
  "metadata": {
    "colab": {
      "provenance": [],
      "authorship_tag": "ABX9TyP1TH1Qs5wcSA4GUbJ/uycH",
      "include_colab_link": true
    },
    "kernelspec": {
      "name": "python3",
      "display_name": "Python 3"
    },
    "language_info": {
      "name": "python"
    }
  },
  "cells": [
    {
      "cell_type": "markdown",
      "metadata": {
        "id": "view-in-github",
        "colab_type": "text"
      },
      "source": [
        "<a href=\"https://colab.research.google.com/github/minhcong00/AI/blob/main/BT_AI_W9_mnist_ANN.ipynb\" target=\"_parent\"><img src=\"https://colab.research.google.com/assets/colab-badge.svg\" alt=\"Open In Colab\"/></a>"
      ]
    },
    {
      "cell_type": "code",
      "execution_count": 48,
      "metadata": {
        "id": "o3vRqVJ_MfK8"
      },
      "outputs": [],
      "source": [
        "from keras.datasets import mnist\n",
        "(train_images, train_labels),(test_images, test_labels)=mnist.load_data()"
      ]
    },
    {
      "cell_type": "code",
      "source": [
        "train_images.shape,test_images.shape,train_labels.shape,test_labels.shape"
      ],
      "metadata": {
        "colab": {
          "base_uri": "https://localhost:8080/"
        },
        "id": "u0VPh9pAMsxe",
        "outputId": "8aa3a613-2f56-4da5-cb5b-832b463e9425"
      },
      "execution_count": 49,
      "outputs": [
        {
          "output_type": "execute_result",
          "data": {
            "text/plain": [
              "((60000, 28, 28), (10000, 28, 28), (60000,), (10000,))"
            ]
          },
          "metadata": {},
          "execution_count": 49
        }
      ]
    },
    {
      "cell_type": "code",
      "source": [
        "digit = train_images[5]\n",
        "import matplotlib.pyplot as plt\n",
        "plt.imshow(digit)\n",
        "plt.show\n",
        "print('so nay la', train_labels[5])"
      ],
      "metadata": {
        "colab": {
          "base_uri": "https://localhost:8080/",
          "height": 447
        },
        "id": "Jt2dymsGMuTy",
        "outputId": "00d032e1-2ef7-4c4f-8e7a-642e3c37bf41"
      },
      "execution_count": 50,
      "outputs": [
        {
          "output_type": "stream",
          "name": "stdout",
          "text": [
            "so nay la 2\n"
          ]
        },
        {
          "output_type": "display_data",
          "data": {
            "text/plain": [
              "<Figure size 640x480 with 1 Axes>"
            ],
            "image/png": "[encoded data removed]"
          },
          "metadata": {}
        }
      ]
    },
    {
      "cell_type": "code",
      "source": [
        "for i in range(10):\n",
        "  plt.subplot(3,5,i+1)\n",
        "  plt.tight_layout()\n",
        "  plt.imshow(train_images[i], cmap = 'gray', interpolation= 'none')\n",
        "  plt.title('So nay la:{}'.format(train_labels[i]))\n",
        "  plt.xticks([])\n",
        "  plt.yticks([])"
      ],
      "metadata": {
        "colab": {
          "base_uri": "https://localhost:8080/",
          "height": 298
        },
        "id": "flXsHK1bMuXR",
        "outputId": "c1935431-22d5-4b3e-e580-f5e32b3dc7cd"
      },
      "execution_count": 51,
      "outputs": [
        {
          "output_type": "display_data",
          "data": {
            "text/plain": [
              "<Figure size 640x480 with 10 Axes>"
            ],
            "image/png": "[encoded data removed]"
          },
          "metadata": {}
        }
      ]
    },
    {
      "cell_type": "code",
      "source": [
        "from keras.models import Sequential\n",
        "from keras.layers import Dense\n",
        "\n",
        "model=Sequential()\n",
        "model.add(Dense(512,activation='relu', input_shape = (28*28,)))\n",
        "model.add(Dense(10, activation = 'softmax'))\n",
        "model.summary()"
      ],
      "metadata": {
        "colab": {
          "base_uri": "https://localhost:8080/"
        },
        "id": "M8JyOhr1MuZx",
        "outputId": "525ca01d-3eba-40fe-cd5e-0b12917cf0aa"
      },
      "execution_count": 52,
      "outputs": [
        {
          "output_type": "stream",
          "name": "stdout",
          "text": [
            "Model: \"sequential_4\"\n",
            "_________________________________________________________________\n",
            " Layer (type)                Output Shape              Param #   \n",
            "=================================================================\n",
            " dense_6 (Dense)             (None, 512)               401920    \n",
            "                                                                 \n",
            " dense_7 (Dense)             (None, 10)                5130      \n",
            "                                                                 \n",
            "=================================================================\n",
            "Total params: 407,050\n",
            "Trainable params: 407,050\n",
            "Non-trainable params: 0\n",
            "_________________________________________________________________\n"
          ]
        }
      ]
    },
    {
      "cell_type": "code",
      "source": [
        "train_images = train_images.reshape((60000, 28*28))\n",
        "train_images = train_images.astype('float32')/255\n",
        "test_images = test_images.reshape((10000, 28*28))\n",
        "test_images = test_images.astype('float32')/255"
      ],
      "metadata": {
        "id": "U6RnjzpHMuda"
      },
      "execution_count": 53,
      "outputs": []
    },
    {
      "cell_type": "code",
      "source": [
        "train_images.shape, test_images.shape"
      ],
      "metadata": {
        "colab": {
          "base_uri": "https://localhost:8080/"
        },
        "id": "ifSgxy7YX40n",
        "outputId": "90b0aa8e-ccee-4112-e9d9-46943a87a597"
      },
      "execution_count": 54,
      "outputs": [
        {
          "output_type": "execute_result",
          "data": {
            "text/plain": [
              "((60000, 784), (10000, 784))"
            ]
          },
          "metadata": {},
          "execution_count": 54
        }
      ]
    },
    {
      "cell_type": "code",
      "source": [
        "from keras.utils import to_categorical \n",
        "train_labels = to_categorical(train_labels, 10)\n",
        "test_labels = to_categorical(test_labels, 10)"
      ],
      "metadata": {
        "id": "dMViejn7ToCB"
      },
      "execution_count": 55,
      "outputs": []
    },
    {
      "cell_type": "code",
      "source": [
        "train_labels.shape, test_labels.shape"
      ],
      "metadata": {
        "colab": {
          "base_uri": "https://localhost:8080/"
        },
        "id": "BBPK4RdhYDrW",
        "outputId": "86b7a607-4536-436b-dff3-168ff512df05"
      },
      "execution_count": 56,
      "outputs": [
        {
          "output_type": "execute_result",
          "data": {
            "text/plain": [
              "((60000, 10), (10000, 10))"
            ]
          },
          "metadata": {},
          "execution_count": 56
        }
      ]
    },
    {
      "cell_type": "code",
      "source": [
        "model.compile(optimizer = 'rmsprop', loss = 'categorical_crossentropy', metrics = ['accuracy'])\n",
        "model.fit(train_images, train_labels, epochs= 20, batch_size= 128)\n",
        "test_loss, test_acc = model.evaluate(test_images, test_labels)\n",
        "print('Do chinh xac ', test_acc)\n",
        "print('Do mat mat ', test_loss)"
      ],
      "metadata": {
        "colab": {
          "base_uri": "https://localhost:8080/"
        },
        "id": "MPt4d-g6NK5d",
        "outputId": "82a94b92-96a1-4a4c-8c43-ff69c7888c1b"
      },
      "execution_count": 57,
      "outputs": [
        {
          "output_type": "stream",
          "name": "stdout",
          "text": [
            "Epoch 1/20\n",
            "469/469 [==============================] - 6s 12ms/step - loss: 0.2636 - accuracy: 0.9238\n",
            "Epoch 2/20\n",
            "469/469 [==============================] - 4s 10ms/step - loss: 0.1073 - accuracy: 0.9687\n",
            "Epoch 3/20\n",
            "469/469 [==============================] - 6s 13ms/step - loss: 0.0705 - accuracy: 0.9785\n",
            "Epoch 4/20\n",
            "469/469 [==============================] - 5s 10ms/step - loss: 0.0512 - accuracy: 0.9840\n",
            "Epoch 5/20\n",
            "469/469 [==============================] - 5s 11ms/step - loss: 0.0378 - accuracy: 0.9888\n",
            "Epoch 6/20\n",
            "469/469 [==============================] - 5s 11ms/step - loss: 0.0290 - accuracy: 0.9917\n",
            "Epoch 7/20\n",
            "469/469 [==============================] - 5s 10ms/step - loss: 0.0220 - accuracy: 0.9937\n",
            "Epoch 8/20\n",
            "469/469 [==============================] - 6s 12ms/step - loss: 0.0165 - accuracy: 0.9953\n",
            "Epoch 9/20\n",
            "469/469 [==============================] - 4s 10ms/step - loss: 0.0121 - accuracy: 0.9971\n",
            "Epoch 10/20\n",
            "469/469 [==============================] - 5s 10ms/step - loss: 0.0087 - accuracy: 0.9980\n",
            "Epoch 11/20\n",
            "469/469 [==============================] - 6s 12ms/step - loss: 0.0065 - accuracy: 0.9985\n",
            "Epoch 12/20\n",
            "469/469 [==============================] - 5s 10ms/step - loss: 0.0051 - accuracy: 0.9989\n",
            "Epoch 13/20\n",
            "469/469 [==============================] - 6s 12ms/step - loss: 0.0033 - accuracy: 0.9994\n",
            "Epoch 14/20\n",
            "469/469 [==============================] - 5s 10ms/step - loss: 0.0022 - accuracy: 0.9997\n",
            "Epoch 15/20\n",
            "469/469 [==============================] - 5s 10ms/step - loss: 0.0016 - accuracy: 0.9998\n",
            "Epoch 16/20\n",
            "469/469 [==============================] - 6s 12ms/step - loss: 9.5003e-04 - accuracy: 0.9999\n",
            "Epoch 17/20\n",
            "469/469 [==============================] - 5s 10ms/step - loss: 6.1458e-04 - accuracy: 1.0000\n",
            "Epoch 18/20\n",
            "469/469 [==============================] - 5s 10ms/step - loss: 5.3946e-04 - accuracy: 1.0000\n",
            "Epoch 19/20\n",
            "469/469 [==============================] - 6s 12ms/step - loss: 4.2318e-04 - accuracy: 1.0000\n",
            "Epoch 20/20\n",
            "469/469 [==============================] - 5s 11ms/step - loss: 3.3524e-04 - accuracy: 1.0000\n",
            "313/313 [==============================] - 1s 3ms/step - loss: 0.0662 - accuracy: 0.9836\n",
            "Do chinh xac  0.9836000204086304\n",
            "Do mat mat  0.06623321026563644\n"
          ]
        }
      ]
    },
    {
      "cell_type": "code",
      "source": [
        "from keras.saving.saving_api import load_model\n",
        "model.save('test1.h5')"
      ],
      "metadata": {
        "id": "Bcx6JAoZVYyI"
      },
      "execution_count": 58,
      "outputs": []
    },
    {
      "cell_type": "code",
      "source": [
        "model10=load_model('test1.h5')"
      ],
      "metadata": {
        "id": "oN5sqQVwVhRH"
      },
      "execution_count": 59,
      "outputs": []
    },
    {
      "cell_type": "code",
      "source": [
        "from keras.utils import load_img\n",
        "url = '/content/so5.png'\n",
        "img = load_img(url)\n",
        "plt.imshow(img)"
      ],
      "metadata": {
        "id": "38A3n3vTNRQi",
        "colab": {
          "base_uri": "https://localhost:8080/",
          "height": 452
        },
        "outputId": "cc83eb13-30f4-476f-aafb-cf214ecc1f5d"
      },
      "execution_count": 63,
      "outputs": [
        {
          "output_type": "execute_result",
          "data": {
            "text/plain": [
              "<matplotlib.image.AxesImage at 0x7f15779982e0>"
            ]
          },
          "metadata": {},
          "execution_count": 63
        },
        {
          "output_type": "display_data",
          "data": {
            "text/plain": [
              "<Figure size 640x480 with 1 Axes>"
            ],
            "image/png": "[encoded data removed]"
          },
          "metadata": {}
        }
      ]
    },
    {
      "cell_type": "code",
      "source": [
        "from keras.utils import load_img, img_to_array\n",
        "import numpy as np\n",
        "img = load_img(url, target_size = (28,28), color_mode = \"grayscale\")\n",
        "plt.imshow(img, cmap='gray')\n",
        "img = img_to_array(img)\n",
        "img = img.reshape(1,28*28)\n",
        "img = img.astype('float32')\n",
        "img = img/255   \n",
        "predict_num = np.argmax(model.predict(img))\n",
        "print(\"So nay la: \",   predict_num)"
      ],
      "metadata": {
        "id": "JUBiQwk5NToi",
        "colab": {
          "base_uri": "https://localhost:8080/",
          "height": 465
        },
        "outputId": "49597b80-17f5-4e4d-a953-f87d1a81eb87"
      },
      "execution_count": 64,
      "outputs": [
        {
          "output_type": "stream",
          "name": "stdout",
          "text": [
            "1/1 [==============================] - 0s 26ms/step\n",
            "So nay la:  5\n"
          ]
        },
        {
          "output_type": "display_data",
          "data": {
            "text/plain": [
              "<Figure size 640x480 with 1 Axes>"
            ],
            "image/png": "[encoded data removed]"
          },
          "metadata": {}
        }
      ]
    }
  ]
}